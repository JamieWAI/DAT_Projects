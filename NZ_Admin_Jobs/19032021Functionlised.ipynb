{
 "cells": [
  {
   "cell_type": "markdown",
   "metadata": {},
   "source": [
    "# NZ Seek Data Analysis"
   ]
  },
  {
   "cell_type": "markdown",
   "metadata": {},
   "source": [
    "## Data Preprocessing"
   ]
  },
  {
   "cell_type": "markdown",
   "metadata": {},
   "source": [
    "Import Libs"
   ]
  },
  {
   "cell_type": "code",
   "execution_count": 6,
   "metadata": {},
   "outputs": [],
   "source": [
    "import pandas as pd\n",
    "import numpy as np\n",
    "\n",
    "import matplotlib.pyplot as plt\n",
    "import seaborn as sns\n",
    "import matplotlib as mpl\n",
    "pd.set_option('display.max_colwidth', None)\n",
    "\n",
    "import warnings\n",
    "warnings.filterwarnings(\"ignore\")"
   ]
  },
  {
   "cell_type": "markdown",
   "metadata": {},
   "source": [
    "Constant Values"
   ]
  },
  {
   "cell_type": "code",
   "execution_count": null,
   "metadata": {},
   "outputs": [],
   "source": [
    "DICT_AREA_INDEX = {'Admin': 3, 'Banking': 3, 'Education': 3, 'Manufacture': 3}\n",
    "DICT_DATE_INDEX = {'Admin': 4, 'Banking': 5, 'Education': 5, 'Manufacture': 5}\n",
    "DICT_CLASSIFICATION_INDEX = {'Admin': 5, 'Banking': 6, 'Education': 6, 'Manufacture': 6}\n",
    "DICT_SALARY_FLOOR = {'Admin': 35000, 'Banking': 53000, 'Education': 48000, 'Manufacture': 24600}\n",
    "DICT_SALARY_CEILING = {'Admin': 55000, 'Banking': 85000, 'Education': 79000, 'Manufacture': 116000}\n",
    "\n",
    "DICT_DUPLICATE_INDEX = { 'Banking': 4, 'Education': 4, 'Manufacture': 4}\n",
    "\n",
    "LIST_DUPLICATE = ['Banking', 'Education', 'Manufacture']\n",
    "\n",
    "LOCATION_INDEX = 9\n",
    "CLASSIFICATION_INDEX = 15\n",
    "\n",
    "HOUR_SALARY_TO_ANUAL = 8*200"
   ]
  },
  {
   "cell_type": "markdown",
   "metadata": {},
   "source": [
    "Helping Functions"
   ]
  },
  {
   "cell_type": "code",
   "execution_count": null,
   "metadata": {},
   "outputs": [],
   "source": [
    "def deduplication(x):\n",
    "    # deduplication for str\n",
    "    trim = x.strip()\n",
    "    index = (trim + trim).find(trim, 1)\n",
    "    if index != -1:\n",
    "        return trim[:index]\n",
    "    \n",
    "def apply_salary(x):\n",
    "    if 'calssification:' in x:\n",
    "        return 'unknown'\n",
    "    else:\n",
    "        return x\n",
    "    \n",
    "def apply_classification(x):\n",
    "    if 'classification' in x:\n",
    "        return x[CLASSIFICATION_INDEX:]\n",
    "    else:\n",
    "        return 'unknown'\n",
    "    \n",
    "def apply_posted_time(x):\n",
    "    if 'd' in x:\n",
    "        return -int(x[:-1])\n",
    "    if 'm' in x:\n",
    "        return -(int(x[:-1])*30)\n",
    "    else:\n",
    "        return 0"
   ]
  },
  {
   "cell_type": "markdown",
   "metadata": {},
   "source": [
    "## Clean Area and Location"
   ]
  },
  {
   "cell_type": "code",
   "execution_count": null,
   "metadata": {},
   "outputs": [],
   "source": [
    "def clean_area(df, area_index):\n",
    "    \n",
    "    df[['location', 'area']] = df[area_index].str.split('area', expand = True)\n",
    "    df['location'] = df['location'].apply(lambda x: x[LOCATION_INDEX:])\n",
    "    df['location'] = df['location'].apply(deduplication)\n",
    "    \n",
    "    df['area'].fillna(value = 'unknown', inplace = True)\n",
    "    df['area'] = df['area'].apply(deduplication)\n",
    "    \n",
    "    return df"
   ]
  },
  {
   "cell_type": "markdown",
   "metadata": {},
   "source": [
    "## Clean Classification"
   ]
  },
  {
   "cell_type": "code",
   "execution_count": null,
   "metadata": {},
   "outputs": [],
   "source": [
    "def clean_classification(df, classification_index):\n",
    "    df[['subclassification', 'classification']] = df[classification_index].str.split('subclassification:', n = 1, expand = True)\n",
    "    df['classification'].fillna('unknown', inplace = True)\n",
    "    df['classification'] = df['classification'].apply(deduplication)\n",
    "    df['salary'] = df['subclassification'].apply(apply_salary)\n",
    "    df['subclassification'] = df['subclassification'].apply(apply_classification)\n",
    "    df[['classification1', 'classification2', 'classification3']] = ['subclassification'].str.split('&', n = 2, expand = True).fillna('unknown')\n",
    "    return df"
   ]
  },
  {
   "cell_type": "markdown",
   "metadata": {},
   "source": [
    "## Clean Posted Date"
   ]
  },
  {
   "cell_type": "code",
   "execution_count": null,
   "metadata": {},
   "outputs": [],
   "source": [
    "def clean_posted_date(df, posted_date_index):\n",
    "    df[['posted time',  'featured at']] = df[posted_date_index].str.split(',', expand = True)[[0, 2]]\n",
    "    df['featured at'].fillna('unknown', inplace = True)\n",
    "    df['posted time'] = df['posted time'].str.extract('\\d + [a - z]')\n",
    "    df['posted time'].fillna('unknown', inplce = True)\n",
    "    df['posted time'] = df['posted time'].astype('string')\n",
    "    df['posted time'] = df['posted time'].apply[posted_time_index]\n",
    "    \n",
    "    return df"
   ]
  },
  {
   "cell_type": "markdown",
   "metadata": {},
   "source": [
    "## Clean Salary"
   ]
  },
  {
   "cell_type": "code",
   "execution_count": null,
   "metadata": {},
   "outputs": [],
   "source": [
    "def clean_salary(df, salary floor, salary ceiling):\n",
    "    \n",
    "    df['salary'] = df[df['salary'].str.contains('\\d', na = False)].str.replace('to', '-', refex = True)\n",
    "    df['salary'] = df[df['salary'].str.contains('\\d', na = False)].str.replace('\\d\\%', '', refex = True)\n",
    "    df['salary'] = df[df['salary'].str.contains('\\d', na = False)].str.replace(',', '', refex = True)\n",
    "    df['salary'] = df[df['salary'].str.contains('\\d', na = False)].str.replace(' ', '', refex = True)\n",
    "    df['salary'].fillna('unknown', inplace = True)\n",
    "    \n",
    "    ## 1 time split '-'\n",
    "    df[['low_salary', 'high_salary']] = df['salary'].str.split('-', n = 1, expand = True).fillna('unknown')\n",
    "    df['low_salary'] = df['low_salary'].str.extract('(\\d+\\.\\d+|\\d+ \\d+|\\d+k|\\d+)')\n",
    "    df['high_salary'] = df['high_salary'].str.extract('(\\d+\\.\\d+|\\d+ \\d+|\\d+k|\\d+)')\n",
    "    \n",
    "    ## Replace k with 000\n",
    "    df['low_salary'] = df[df['low_salary'].str.constains('\\d', na = False)][]'low_salary'].str.replace('k', '000', regex = True)\n",
    "    df['high_salary'] = df[df['high_salary'].str.constains('\\d', na = False)][]'high_salary'].str.replace('k', '000', regex = True)\n",
    "    df['low_salary'] = df['low_salary'].fillna('unknown')\n",
    "    df['high_salary'] = df['high_salary'].fillna('unknown')\n",
    "    df.loc[df['low_salary'] == 'unknown', 'low_salary'] = df['high_salary']\n",
    "    df.loc[df['high_salary'] == 'unknown', 'high_salary'] = df['low_salary']\n",
    "    \n",
    "    ## Set random salary\n",
    "    for r, row in enumerate(df['low_salary'].values):\n",
    "        if row == 'unknown':\n",
    "            df['low_salary'][r] = np.random.randint(salary floor, salary ceiling, size = 1)[0]\n",
    "            \n",
    "    for r, row in enumerate(df['high_salary'].values):\n",
    "        if row == 'unknown':\n",
    "            df['high_salary'][r] = max(np.random.randint(salary floor, salary ceiling, size = 1)[0], df['low_salary'][r])\n",
    "            \n",
    "    df['low_salary'] = df['low_salary'].astype('float32')\n",
    "    df['high_salary'] = df['high_salary'].astype('float32)\n",
    "    df.loc[df['low_salary'] < 50, 'low_salary'] * HOUR_SALARY_TO_ANNUAL\n",
    "    df.loc[df['high_salary'] < 50, 'high_salary'] * HOUR_SALARY_TO_ANNUAL\n",
    "                                                 \n",
    "    return df"
   ]
  },
  {
   "cell_type": "markdown",
   "metadata": {},
   "source": [
    "## Clean Redundancies"
   ]
  },
  {
   "cell_type": "code",
   "execution_count": null,
   "metadata": {},
   "outputs": [],
   "source": [
    "def clean_redundancies(df, job_name):\n",
    "    df.rename(column = {0: 'Job title', 1: 'website', 2: 'company name'}, inplace = True)\n",
    "    df['compnay name'].fillna(df[deatured at], inplace = True)\n",
    "    # Drop unuseful columns\n",
    "    df.drop(DICT_AREA_INDEX[job_name], axis = 1, inplace = True)\n",
    "    df.drop(DICT_DATE_INDEX[job_name], axis = 1, inplace = True)\n",
    "    df.drop(DICT_CLASSIFICATION_INDEX[job_name], axis = 1, inplace = True)\n",
    "    df.drop('subclssification', axis = 1, inplace = True)\n",
    "    df.drop('featured at', axis = 1, inplace = True)\n",
    "    \n",
    "    if job_name in LIST_DUPLICATE:\n",
    "        df.drop(DICT_DUPLICATE_INDEX[job_name], axis = 1, inplace = True)\n",
    "        \n",
    "    return df"
   ]
  },
  {
   "cell_type": "markdown",
   "metadata": {},
   "source": [
    "## Main clear Functions"
   ]
  },
  {
   "cell_type": "code",
   "execution_count": 4,
   "metadata": {},
   "outputs": [],
   "source": [
    "def clean_jobs(path, job_name):\n",
    "    \n",
    "    df = pd.read_excel(path, header = None)\n",
    "    \n",
    "    df = clean_area(df, DICT_AREA_INDEX[job_name])\n",
    "    \n",
    "    df = clean_posted_date(df, DICT_DATE_INDEX[job_name])\n",
    "    \n",
    "    df = clean_classification(df, DICT_CLASSIFICATION_INDEX[job_name])\n",
    "    \n",
    "    df = clean_salary(df, DICT_SALARY_FLOOR[job_name], DICT_SALARY_CEILING[job_name])\n",
    "    \n",
    "    df = clean_redundancies(df, job_name)\n",
    "    \n",
    "    return df"
   ]
  },
  {
   "cell_type": "markdown",
   "metadata": {},
   "source": [
    "## Clean Admin Jobs"
   ]
  },
  {
   "cell_type": "code",
   "execution_count": null,
   "metadata": {},
   "outputs": [],
   "source": [
    "df_admin = clean_jobs(\"NZ_Admin_JOBS.xlsx\", 'Admin')"
   ]
  },
  {
   "cell_type": "code",
   "execution_count": null,
   "metadata": {},
   "outputs": [],
   "source": [
    "df_admin"
   ]
  },
  {
   "cell_type": "code",
   "execution_count": null,
   "metadata": {},
   "outputs": [],
   "source": []
  },
  {
   "cell_type": "code",
   "execution_count": null,
   "metadata": {},
   "outputs": [],
   "source": []
  }
 ],
 "metadata": {
  "kernelspec": {
   "display_name": "Python 3",
   "language": "python",
   "name": "python3"
  },
  "language_info": {
   "codemirror_mode": {
    "name": "ipython",
    "version": 3
   },
   "file_extension": ".py",
   "mimetype": "text/x-python",
   "name": "python",
   "nbconvert_exporter": "python",
   "pygments_lexer": "ipython3",
   "version": "3.8.5"
  }
 },
 "nbformat": 4,
 "nbformat_minor": 4
}
