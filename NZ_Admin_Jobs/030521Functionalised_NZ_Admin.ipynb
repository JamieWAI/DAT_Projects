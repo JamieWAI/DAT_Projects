{
 "cells": [
  {
   "cell_type": "markdown",
   "metadata": {},
   "source": [
    "# NZ Seek Data Analysis"
   ]
  },
  {
   "cell_type": "markdown",
   "metadata": {},
   "source": [
    "## Data preprocessing"
   ]
  },
  {
   "cell_type": "markdown",
   "metadata": {},
   "source": [
    "### Import Libs"
   ]
  },
  {
   "cell_type": "code",
   "execution_count": null,
   "metadata": {},
   "outputs": [],
   "source": [
    "import pandas as pd\n",
    "import numpy as np\n",
    "import datetime"
   ]
  },
  {
   "cell_type": "markdown",
   "metadata": {},
   "source": [
    "### Main Functions"
   ]
  },
  {
   "cell_type": "code",
   "execution_count": null,
   "metadata": {},
   "outputs": [],
   "source": [
    "df_job_name = pd.read_excel(\"path\", header = None)\n",
    "\n",
    "clean_Posted_Time(df, DICT_DATE_INDEX[Job_Name])\n",
    "\n",
    "clean_Classification(df, DICT_CLASSFICATION_INDEX[Job_Name])\n",
    "\n",
    "clean_Salary(df, DICT_SALARY_FLOOR[Job_Name], DICT_SALARY_CEILING[Job_Name])\n",
    "    \n",
    "clean_Redundancies(df, Job_Name)"
   ]
  },
  {
   "cell_type": "markdown",
   "metadata": {},
   "source": [
    "### Constant values"
   ]
  },
  {
   "cell_type": "code",
   "execution_count": null,
   "metadata": {},
   "outputs": [],
   "source": [
    "DICT_AREA_INDEX = {'Admin':3}\n",
    "DICT_DATE_INDEX = {'Admin':4}\n",
    "DICT_CLASSFICATION_INDEX = {'Admin':5}\n",
    "DICT_SALARY_FLOOR = {'Admin':35000}\n",
    "DICT_SALARY_CEILING = {'Admin':55000}\n",
    "HOURLY_SALARY_TO_ANNUAL = 8*200\n",
    "CORRECTING_WRONG_ANNUAL_SALARY_FORMAT = *1000"
   ]
  },
  {
   "cell_type": "markdown",
   "metadata": {},
   "source": [
    "### Useful Functions"
   ]
  },
  {
   "cell_type": "code",
   "execution_count": null,
   "metadata": {},
   "outputs": [],
   "source": [
    "def deduplication(x):\n",
    "    mid = len(x)//2\n",
    "    if x!='unknown':\n",
    "        return x[:mid+1]\n",
    "    else:\n",
    "        return 'unknown'\n",
    "    \n",
    "def apply_salary(x):\n",
    "    if 'classification:' in x:\n",
    "        return 'unknown'\n",
    "    else:\n",
    "        return x\n",
    "    \n",
    "def apply_classification(x):\n",
    "    if 'classification' in x:\n",
    "        return x[15:]\n",
    "    else:\n",
    "        return 'unknown'\n",
    "    \n",
    "def apply_posted_time(x):\n",
    "    if 'd' in x:\n",
    "        return -int(x[:-1])\n",
    "    if 'm' in x:\n",
    "        return -(int(x[:-1])*30)\n",
    "    else:\n",
    "        return 0"
   ]
  },
  {
   "cell_type": "markdown",
   "metadata": {},
   "source": [
    "### Cleaning Locations and Areas"
   ]
  },
  {
   "cell_type": "code",
   "execution_count": null,
   "metadata": {},
   "outputs": [],
   "source": [
    "df_admin[['Location', 'Area']] = df_admin[Area_Index].str.split('area:', expand=True) \n",
    "\n",
    "df_admin['Location'] = df_admin['Location'].apply(lambda x: x[Location_Index:]) \n",
    "\n",
    "df_admin['Location'] = df_admin['Location'].apply(deduplication)\n",
    "\n",
    "df_admin['Area'].fillna(value='unknown',inplace = True) \n",
    "\n",
    "df_admin['Area1'] = df_admin['Area1'].apply(deduplication)"
   ]
  },
  {
   "cell_type": "markdown",
   "metadata": {},
   "source": [
    "### Clean Classification"
   ]
  },
  {
   "cell_type": "code",
   "execution_count": null,
   "metadata": {},
   "outputs": [],
   "source": [
    "df_admin[['Subclassification','Classification']] = df_admin[Classification_Index].str.split('subClassification:', expand = True)\n",
    "\n",
    "df_admin['Classification'].fillna(value='unknown',inplace = True) \n",
    "\n",
    "df_admin['Classification'] = df_admin['Classification'].apply(deduplication)\n",
    "\n",
    "df_admin['Salary'] = df_admin['Subclassification'].apply(apply_salary)\n",
    "\n",
    "df_admin['Subclassification']=df_admin['Subclassification'].apply(apply_classification)\n",
    "\n",
    "df_admin[['Class1','Class2','Class3']] = df_admin['Subclassification'].str.split('&', expand = True).fillna('unknown')"
   ]
  },
  {
   "cell_type": "markdown",
   "metadata": {},
   "source": [
    "### Clean Posted Time"
   ]
  },
  {
   "cell_type": "code",
   "execution_count": null,
   "metadata": {},
   "outputs": [],
   "source": [
    "df_admin[['Posted time','Featured at']] = df_admin[Posted_Time_Index].str.split(',', expand = True)[[0,2]]\n",
    "\n",
    "df_admin['Featured at'].fillna('unknown', inplace = True)\n",
    "\n",
    "df_admin['Posted time'] = df_admin['Posted time'].str.extract('(\\d+[a-z])') \n",
    "\n",
    "df_admin['Posted time'].fillna('unknown', inplace = True)\n",
    "\n",
    "df_admin['Posted time'] = df_admin['Posted time'].astype('string')\n",
    "\n",
    "df_admin['Posted time']=df_admin['Posted time'].apply(apply_posted_time)"
   ]
  },
  {
   "cell_type": "markdown",
   "metadata": {},
   "source": [
    "### Clean Salary"
   ]
  },
  {
   "cell_type": "code",
   "execution_count": null,
   "metadata": {},
   "outputs": [],
   "source": [
    "df_admin['Salary'] = df_admin[df_admin['Salary'].str.contains('\\d', na=False)]['Salary'].str.replace('to','-',regex=True)\n",
    "\n",
    "df_admin['Salary'] = df_admin[df_admin['Salary'].str.contains('\\d', na=False)]['Salary'].str.replace('\\d\\%','',regex=True)\n",
    "\n",
    "df_admin['Salary'] = df_admin[df_admin['Salary'].str.contains('\\d', na=False)]['Salary'].str.replace(',','',regex=True)\n",
    "\n",
    "df_admin['Salary'].fillna('unknown')\n",
    "\n",
    "df_admin[['Lo_Salary','Hi_Salary']] = df_admin['Salary'].str.split('-', n=1, expand = True).fillna('unknown')\n",
    "\n",
    "df_admin['Lo_Salary'] = df_admin['Lo_Salary'].str.extract('(\\d+\\.\\d+|\\d+\\d+|\\d+k|\\d+)')\n",
    "df_admin['Hi_Salary'] = df_admin['Hi_Salary'].str.extract('(\\d+\\.\\d+|\\d+\\d+|\\d+k|\\d+)')\n",
    "\n",
    "df_admin['Lo_Salary'] = df_admin[df_admin['Lo_Salary'].str.contains('\\d', na=False)]['Lo_Salary'].str.replace('k', '000', regex=True)\n",
    "\n",
    "df_admin['Hi_Salary'] = df_admin[df_admin['Hi_Salary'].str.contains('\\d', na=False)]['Hi_Salary'].str.replace('k', '000', regex=True)\n",
    "\n",
    "df_admin['Lo_Salary'] = df_admin[df_admin['Lo_Salary'].str.contains('\\d', na=False)]['Lo_Salary'].str.replace(' ', '', regex=True)\n",
    "\n",
    "df_admin['Hi_Salary'] = df_admin[df_admin['Hi_Salary'].str.contains('\\d', na=False)]['Hi_Salary'].str.replace(' ', '', regex=True)\n",
    "\n",
    "df_admin['Lo_Salary'] = df_admin['Lo_Salary'].fillna(\"unknown\")\n",
    "df_admin['Hi_Salary'] = df_admin['Hi_Salary'].fillna(\"unknown\")\n",
    "\n",
    "df_admin.loc[df_admin['Lo_Salary'] == 'unknown', 'Lo_Salary'] = df_admin['Lo_Salary']\n",
    "df_admin.loc[df_admin['Hi_Salary'] == 'unknown', 'Hi_Salary'] = df_admin['Hi_Salary']\n",
    "\n",
    "\n",
    "# Setting random salary\n",
    "\n",
    "for r, row in enumerate(df_admin['Lo_Salary'].values):\n",
    "    if row == 'unknown':\n",
    "        df_admin['Lo_Salary'][r] = np.random.randint(Salary_Floor, Salary_Ceiling, size = 1)[0]\n",
    "        \n",
    "for r, row in enumerate(df_admin['Hi_Salary'].values):\n",
    "    if row == 'unknown':\n",
    "        df_admin['Hi_Salary'][r] = max(np.random.randint(Salary_Floor, Salary_Ceiling, size = 1)[0], df_admin['Lo_Salary'][r] )\n",
    "\n",
    "df_admin['Lo_Salary'] = df_admin['Lo_Salary'].astype('float32')\n",
    "df_admin['Hi_Salary'] = df_admin['Hi_Salary'].astype('float32')\n",
    "\n",
    "\n",
    "# Transforming the hourly paid to the annual salary\n",
    "\n",
    "df_admin.loc[df_admin['Lo_Salary'] < 50, 'Lo_Salary'] = df_admin['Lo_Salary']*HOURLY_SALARY_TO_ANNUAL\n",
    "df_admin.loc[df_admin['Hi_Salary'] < 50, 'Hi_Salary'] = df_admin['Hi_Salary']*HOURLY_SALARY_TO_ANNUAL\n",
    "\n",
    "\n",
    "# Correcting the wrong format of the annual salary\n",
    "\n",
    "df_admin.loc[(df_admin['Lo_Salary'] >= 60) & (df_admin['Lo_Salary'] < 90), 'Lo_Salary'] = df_admin['Lo_Salary']*CORRECTING_WRONG_ANNUAL_SALARY_FORMAT\n",
    "df_admin.loc[(df_admin['Hi_Salary'] >= 60) & (df_admin['Hi_Salary'] < 90), 'Hi_Salary'] = df_admin['Hi_Salary']*CORRECTING_WRONG_ANNUAL_SALARY_FORMAT"
   ]
  },
  {
   "cell_type": "markdown",
   "metadata": {},
   "source": [
    "### Clean redundancies"
   ]
  },
  {
   "cell_type": "code",
   "execution_count": null,
   "metadata": {},
   "outputs": [],
   "source": [
    "# Drop unuseful columns\n",
    "\n",
    "df_admin.drop(3, axis = 1, inplace = True) \n",
    "df_admin.drop('Area', axis = 1, inplace = True) \n",
    "df_admin.drop('Area2', axis = 1, inplace = True) \n",
    "df_admin.drop(5, axis = 1, inplace = True)\n",
    "df_admin.drop(4, axis = 1, inplace = True)\n",
    "df_admin.drop('Subclassification', axis = 1, inplace = True)\n",
    "df_admin.drop(['Featured at'], axis = 1, inplace = True)\n",
    "\n",
    "\n",
    "# Rename & Fillna\n",
    "\n",
    "df_admin.rename(columns ={'Area1': 'Area'}, inplace = True )\n",
    "df_admin.rename(columns ={0:'Job title',1:'Web add',2:'Co name'}, inplace = True )\n",
    "df_admin['Co name'].fillna(df_admin['Featured at'], inplace = True)"
   ]
  }
 ],
 "metadata": {
  "kernelspec": {
   "display_name": "Python 3",
   "language": "python",
   "name": "python3"
  },
  "language_info": {
   "codemirror_mode": {
    "name": "ipython",
    "version": 3
   },
   "file_extension": ".py",
   "mimetype": "text/x-python",
   "name": "python",
   "nbconvert_exporter": "python",
   "pygments_lexer": "ipython3",
   "version": "3.8.5"
  }
 },
 "nbformat": 4,
 "nbformat_minor": 4
}
